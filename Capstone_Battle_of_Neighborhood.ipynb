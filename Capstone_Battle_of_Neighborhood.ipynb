{
 "cells": [
  {
   "cell_type": "markdown",
   "metadata": {},
   "source": [
    "## A description of the problem and a discussion of the background"
   ]
  },
  {
   "cell_type": "markdown",
   "metadata": {},
   "source": [
    "#### Description of the problem: \n",
    "Noida city is located in India and its very close to New Delhi the capital of India.\n",
    "We need to know an ideal place in Noida for opening a new restaurant. \n",
    "The ideal location needs to a place where there is less or no similar restaurants.\n",
    "For a person who opens the new restaurant the main motive is that the area selected should have demand for the food and the competion should be less in the selected area. Another factor needs to consider is the restaurant type and available restaurant rating.\n",
    "\n",
    "#### Discussion : \n",
    "We need to find the ideal location for the restaurant. The selected location is place nearer to the heart of the city where most people reside or frequently visit. Moreover the competition for the restaurant type should be less in the selected area. As an example if the new restaurant type is Chinese then the selected area need to have not more than 2 such type of restaurant to avoid high competition and meet the objective of good profit.\n",
    "We are only considering the location perference in this problem. Factors like restaurant size, cost, menu, number of people to be employed etc are out of scope of this investigation."
   ]
  },
  {
   "cell_type": "markdown",
   "metadata": {},
   "source": [
    "## A description of the data and how it will be used to solve the problem"
   ]
  },
  {
   "cell_type": "markdown",
   "metadata": {},
   "source": [
    "#### The data for the ideal location should provide the below information :\n",
    "-- List of restaurants in Noida <br>\n",
    "-- Distance of these restaurant from the ideal location <br>\n",
    "-- Other venues details like bus station, market, metro station etc as needed <br>\n",
    "-- Geodata (latitude and longitude) <br>\n",
    "-- The restaurants rating and type <br>\n",
    "\n",
    "#### How the Data will be used to solve problem :\n",
    "-- Use of Foursquare data to get the restaurants and rating <br>\n",
    "-- Use of Geo Data to get the location coordinates <br>\n",
    "-- Create map that display the details <br>\n",
    "-- The analysis will lead us to making the conclusion and recommendation <br>\n",
    "<br>\n",
    "The above information will help us to locate the ideal location for the new restaurant.\n"
   ]
  },
  {
   "cell_type": "code",
   "execution_count": null,
   "metadata": {},
   "outputs": [],
   "source": []
  }
 ],
 "metadata": {
  "kernelspec": {
   "display_name": "Python 3",
   "language": "python",
   "name": "python3"
  },
  "language_info": {
   "codemirror_mode": {
    "name": "ipython",
    "version": 3
   },
   "file_extension": ".py",
   "mimetype": "text/x-python",
   "name": "python",
   "nbconvert_exporter": "python",
   "pygments_lexer": "ipython3",
   "version": "3.7.2"
  }
 },
 "nbformat": 4,
 "nbformat_minor": 2
}
